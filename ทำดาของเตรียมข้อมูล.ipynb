{
  "cells": [
    {
      "cell_type": "markdown",
      "metadata": {
        "id": "view-in-github",
        "colab_type": "text"
      },
      "source": [
        "<a href=\"https://colab.research.google.com/github/Napawan2005/Machine-Learning-68/blob/main/%E0%B8%97%E0%B8%B3%E0%B8%94%E0%B8%B2%E0%B8%82%E0%B8%AD%E0%B8%87%E0%B9%80%E0%B8%95%E0%B8%A3%E0%B8%B5%E0%B8%A2%E0%B8%A1%E0%B8%82%E0%B9%89%E0%B8%AD%E0%B8%A1%E0%B8%B9%E0%B8%A5.ipynb\" target=\"_parent\"><img src=\"https://colab.research.google.com/assets/colab-badge.svg\" alt=\"Open In Colab\"/></a>"
      ]
    },
    {
      "cell_type": "markdown",
      "metadata": {
        "id": "YBAw8W3yVkJ0"
      },
      "source": [
        "# Data Prepareation"
      ]
    },
    {
      "cell_type": "markdown",
      "metadata": {
        "id": "TuHF9fbRVvt6"
      },
      "source": [
        "## Import Libraries and Load Dataset"
      ]
    },
    {
      "cell_type": "code",
      "execution_count": 1,
      "metadata": {
        "id": "jHnoyTWhVhpL"
      },
      "outputs": [],
      "source": [
        "import pandas as pd\n",
        "import numpy as np\n",
        "import matplotlib.pyplot as plt\n",
        "import seaborn as sns\n",
        "from IPython.display import display\n",
        "from pprint import pprint\n",
        "from fnmatch import fnmatchcase"
      ]
    },
    {
      "cell_type": "code",
      "execution_count": 2,
      "metadata": {
        "id": "BEamvDpQV6qi"
      },
      "outputs": [],
      "source": [
        "import warnings\n",
        "warnings.filterwarnings('ignore') # Ignore any warning"
      ]
    },
    {
      "cell_type": "code",
      "execution_count": 3,
      "metadata": {
        "id": "DveemaWDV7Z1"
      },
      "outputs": [],
      "source": [
        "from sklearn.model_selection import train_test_split, cross_val_score, StratifiedKFold, cross_validate\n",
        "from sklearn.preprocessing import StandardScaler\n",
        "from sklearn.metrics import (\n",
        "    accuracy_score, classification_report,  log_loss,\n",
        "    confusion_matrix, ConfusionMatrixDisplay, recall_score,\n",
        "    balanced_accuracy_score, make_scorer, precision_score,\n",
        "    f1_score, roc_auc_score, average_precision_score)\n",
        "\n",
        "from imblearn.metrics import classification_report_imbalanced\n",
        "from sklearn.utils.class_weight import compute_class_weight"
      ]
    },
    {
      "cell_type": "code",
      "execution_count": 4,
      "metadata": {
        "id": "5zvsfA4EV-qG"
      },
      "outputs": [],
      "source": [
        "from imblearn.pipeline import Pipeline as ImbPipeline\n",
        "from imblearn.over_sampling import RandomOverSampler, SMOTE, BorderlineSMOTE, SVMSMOTE, RandomOverSampler, SMOTEN, SMOTENC, KMeansSMOTE\n",
        "from imblearn.combine import SMOTEENN"
      ]
    },
    {
      "cell_type": "code",
      "execution_count": 5,
      "metadata": {
        "id": "GZb05x1XWA9V"
      },
      "outputs": [],
      "source": [
        "from sklearn.linear_model import LogisticRegression\n",
        "from sklearn.svm import SVC, LinearSVC\n",
        "from sklearn.neighbors import KNeighborsClassifier\n",
        "from sklearn.tree import DecisionTreeClassifier\n",
        "from sklearn.ensemble import RandomForestClassifier\n",
        "from imblearn.ensemble import BalancedRandomForestClassifier"
      ]
    },
    {
      "cell_type": "code",
      "execution_count": 6,
      "metadata": {
        "id": "sWuXeM05WCuI"
      },
      "outputs": [],
      "source": [
        "from sklearn.base import clone\n",
        "from fnmatch import fnmatchcase\n",
        "from collections import Counter, defaultdict\n",
        "from math import ceil"
      ]
    },
    {
      "cell_type": "code",
      "execution_count": 7,
      "metadata": {
        "id": "OXU440ifWJcX"
      },
      "outputs": [],
      "source": [
        "sns.set(style='darkgrid')"
      ]
    },
    {
      "cell_type": "markdown",
      "metadata": {
        "id": "lSsK0jLnWLEK"
      },
      "source": [
        "### load dataset"
      ]
    },
    {
      "cell_type": "code",
      "execution_count": 8,
      "metadata": {
        "colab": {
          "base_uri": "https://localhost:8080/"
        },
        "id": "ph_vCHtaWNmN",
        "outputId": "528408e1-d7e7-4be0-9018-78cdf40bca64"
      },
      "outputs": [
        {
          "output_type": "stream",
          "name": "stdout",
          "text": [
            "Using Colab cache for faster access to the 'fetal-health-classification' dataset.\n"
          ]
        }
      ],
      "source": [
        "import kagglehub\n",
        "from pathlib import Path\n",
        "\n",
        "# Download Dataset from Kaggle\n",
        "dataset_path = kagglehub.dataset_download(\"andrewmvd/fetal-health-classification\")\n",
        "\n",
        "file_path = Path(dataset_path)\n",
        "file_path = file_path / 'fetal_health.csv'"
      ]
    },
    {
      "cell_type": "code",
      "execution_count": 9,
      "metadata": {
        "id": "GkevvrrqWQid"
      },
      "outputs": [],
      "source": [
        "# Set Random SEED\n",
        "SEED = 42"
      ]
    },
    {
      "cell_type": "code",
      "execution_count": 10,
      "metadata": {
        "colab": {
          "base_uri": "https://localhost:8080/",
          "height": 981
        },
        "id": "Vib5AsoQWTMg",
        "outputId": "d4ce4ed2-70f0-4fe4-e2e9-a587e56216aa"
      },
      "outputs": [
        {
          "output_type": "display_data",
          "data": {
            "text/plain": [
              "      baseline value  accelerations  fetal_movement  uterine_contractions  \\\n",
              "0              120.0          0.000           0.000                 0.000   \n",
              "1              132.0          0.006           0.000                 0.006   \n",
              "2              133.0          0.003           0.000                 0.008   \n",
              "3              134.0          0.003           0.000                 0.008   \n",
              "4              132.0          0.007           0.000                 0.008   \n",
              "...              ...            ...             ...                   ...   \n",
              "2121           140.0          0.000           0.000                 0.007   \n",
              "2122           140.0          0.001           0.000                 0.007   \n",
              "2123           140.0          0.001           0.000                 0.007   \n",
              "2124           140.0          0.001           0.000                 0.006   \n",
              "2125           142.0          0.002           0.002                 0.008   \n",
              "\n",
              "      light_decelerations  severe_decelerations  prolongued_decelerations  \\\n",
              "0                   0.000                   0.0                       0.0   \n",
              "1                   0.003                   0.0                       0.0   \n",
              "2                   0.003                   0.0                       0.0   \n",
              "3                   0.003                   0.0                       0.0   \n",
              "4                   0.000                   0.0                       0.0   \n",
              "...                   ...                   ...                       ...   \n",
              "2121                0.000                   0.0                       0.0   \n",
              "2122                0.000                   0.0                       0.0   \n",
              "2123                0.000                   0.0                       0.0   \n",
              "2124                0.000                   0.0                       0.0   \n",
              "2125                0.000                   0.0                       0.0   \n",
              "\n",
              "      abnormal_short_term_variability  mean_value_of_short_term_variability  \\\n",
              "0                                73.0                                   0.5   \n",
              "1                                17.0                                   2.1   \n",
              "2                                16.0                                   2.1   \n",
              "3                                16.0                                   2.4   \n",
              "4                                16.0                                   2.4   \n",
              "...                               ...                                   ...   \n",
              "2121                             79.0                                   0.2   \n",
              "2122                             78.0                                   0.4   \n",
              "2123                             79.0                                   0.4   \n",
              "2124                             78.0                                   0.4   \n",
              "2125                             74.0                                   0.4   \n",
              "\n",
              "      percentage_of_time_with_abnormal_long_term_variability  ...  \\\n",
              "0                                                  43.0       ...   \n",
              "1                                                   0.0       ...   \n",
              "2                                                   0.0       ...   \n",
              "3                                                   0.0       ...   \n",
              "4                                                   0.0       ...   \n",
              "...                                                 ...       ...   \n",
              "2121                                               25.0       ...   \n",
              "2122                                               22.0       ...   \n",
              "2123                                               20.0       ...   \n",
              "2124                                               27.0       ...   \n",
              "2125                                               36.0       ...   \n",
              "\n",
              "      histogram_min  histogram_max  histogram_number_of_peaks  \\\n",
              "0              62.0          126.0                        2.0   \n",
              "1              68.0          198.0                        6.0   \n",
              "2              68.0          198.0                        5.0   \n",
              "3              53.0          170.0                       11.0   \n",
              "4              53.0          170.0                        9.0   \n",
              "...             ...            ...                        ...   \n",
              "2121          137.0          177.0                        4.0   \n",
              "2122          103.0          169.0                        6.0   \n",
              "2123          103.0          170.0                        5.0   \n",
              "2124          103.0          169.0                        6.0   \n",
              "2125          117.0          159.0                        2.0   \n",
              "\n",
              "      histogram_number_of_zeroes  histogram_mode  histogram_mean  \\\n",
              "0                            0.0           120.0           137.0   \n",
              "1                            1.0           141.0           136.0   \n",
              "2                            1.0           141.0           135.0   \n",
              "3                            0.0           137.0           134.0   \n",
              "4                            0.0           137.0           136.0   \n",
              "...                          ...             ...             ...   \n",
              "2121                         0.0           153.0           150.0   \n",
              "2122                         0.0           152.0           148.0   \n",
              "2123                         0.0           153.0           148.0   \n",
              "2124                         0.0           152.0           147.0   \n",
              "2125                         1.0           145.0           143.0   \n",
              "\n",
              "      histogram_median  histogram_variance  histogram_tendency  fetal_health  \n",
              "0                121.0                73.0                 1.0           2.0  \n",
              "1                140.0                12.0                 0.0           1.0  \n",
              "2                138.0                13.0                 0.0           1.0  \n",
              "3                137.0                13.0                 1.0           1.0  \n",
              "4                138.0                11.0                 1.0           1.0  \n",
              "...                ...                 ...                 ...           ...  \n",
              "2121             152.0                 2.0                 0.0           2.0  \n",
              "2122             151.0                 3.0                 1.0           2.0  \n",
              "2123             152.0                 4.0                 1.0           2.0  \n",
              "2124             151.0                 4.0                 1.0           2.0  \n",
              "2125             145.0                 1.0                 0.0           1.0  \n",
              "\n",
              "[2126 rows x 22 columns]"
            ],
            "text/html": [
              "\n",
              "  <div id=\"df-2050e841-355c-452f-95df-20fbfdb4517c\" class=\"colab-df-container\">\n",
              "    <div>\n",
              "<style scoped>\n",
              "    .dataframe tbody tr th:only-of-type {\n",
              "        vertical-align: middle;\n",
              "    }\n",
              "\n",
              "    .dataframe tbody tr th {\n",
              "        vertical-align: top;\n",
              "    }\n",
              "\n",
              "    .dataframe thead th {\n",
              "        text-align: right;\n",
              "    }\n",
              "</style>\n",
              "<table border=\"1\" class=\"dataframe\">\n",
              "  <thead>\n",
              "    <tr style=\"text-align: right;\">\n",
              "      <th></th>\n",
              "      <th>baseline value</th>\n",
              "      <th>accelerations</th>\n",
              "      <th>fetal_movement</th>\n",
              "      <th>uterine_contractions</th>\n",
              "      <th>light_decelerations</th>\n",
              "      <th>severe_decelerations</th>\n",
              "      <th>prolongued_decelerations</th>\n",
              "      <th>abnormal_short_term_variability</th>\n",
              "      <th>mean_value_of_short_term_variability</th>\n",
              "      <th>percentage_of_time_with_abnormal_long_term_variability</th>\n",
              "      <th>...</th>\n",
              "      <th>histogram_min</th>\n",
              "      <th>histogram_max</th>\n",
              "      <th>histogram_number_of_peaks</th>\n",
              "      <th>histogram_number_of_zeroes</th>\n",
              "      <th>histogram_mode</th>\n",
              "      <th>histogram_mean</th>\n",
              "      <th>histogram_median</th>\n",
              "      <th>histogram_variance</th>\n",
              "      <th>histogram_tendency</th>\n",
              "      <th>fetal_health</th>\n",
              "    </tr>\n",
              "  </thead>\n",
              "  <tbody>\n",
              "    <tr>\n",
              "      <th>0</th>\n",
              "      <td>120.0</td>\n",
              "      <td>0.000</td>\n",
              "      <td>0.000</td>\n",
              "      <td>0.000</td>\n",
              "      <td>0.000</td>\n",
              "      <td>0.0</td>\n",
              "      <td>0.0</td>\n",
              "      <td>73.0</td>\n",
              "      <td>0.5</td>\n",
              "      <td>43.0</td>\n",
              "      <td>...</td>\n",
              "      <td>62.0</td>\n",
              "      <td>126.0</td>\n",
              "      <td>2.0</td>\n",
              "      <td>0.0</td>\n",
              "      <td>120.0</td>\n",
              "      <td>137.0</td>\n",
              "      <td>121.0</td>\n",
              "      <td>73.0</td>\n",
              "      <td>1.0</td>\n",
              "      <td>2.0</td>\n",
              "    </tr>\n",
              "    <tr>\n",
              "      <th>1</th>\n",
              "      <td>132.0</td>\n",
              "      <td>0.006</td>\n",
              "      <td>0.000</td>\n",
              "      <td>0.006</td>\n",
              "      <td>0.003</td>\n",
              "      <td>0.0</td>\n",
              "      <td>0.0</td>\n",
              "      <td>17.0</td>\n",
              "      <td>2.1</td>\n",
              "      <td>0.0</td>\n",
              "      <td>...</td>\n",
              "      <td>68.0</td>\n",
              "      <td>198.0</td>\n",
              "      <td>6.0</td>\n",
              "      <td>1.0</td>\n",
              "      <td>141.0</td>\n",
              "      <td>136.0</td>\n",
              "      <td>140.0</td>\n",
              "      <td>12.0</td>\n",
              "      <td>0.0</td>\n",
              "      <td>1.0</td>\n",
              "    </tr>\n",
              "    <tr>\n",
              "      <th>2</th>\n",
              "      <td>133.0</td>\n",
              "      <td>0.003</td>\n",
              "      <td>0.000</td>\n",
              "      <td>0.008</td>\n",
              "      <td>0.003</td>\n",
              "      <td>0.0</td>\n",
              "      <td>0.0</td>\n",
              "      <td>16.0</td>\n",
              "      <td>2.1</td>\n",
              "      <td>0.0</td>\n",
              "      <td>...</td>\n",
              "      <td>68.0</td>\n",
              "      <td>198.0</td>\n",
              "      <td>5.0</td>\n",
              "      <td>1.0</td>\n",
              "      <td>141.0</td>\n",
              "      <td>135.0</td>\n",
              "      <td>138.0</td>\n",
              "      <td>13.0</td>\n",
              "      <td>0.0</td>\n",
              "      <td>1.0</td>\n",
              "    </tr>\n",
              "    <tr>\n",
              "      <th>3</th>\n",
              "      <td>134.0</td>\n",
              "      <td>0.003</td>\n",
              "      <td>0.000</td>\n",
              "      <td>0.008</td>\n",
              "      <td>0.003</td>\n",
              "      <td>0.0</td>\n",
              "      <td>0.0</td>\n",
              "      <td>16.0</td>\n",
              "      <td>2.4</td>\n",
              "      <td>0.0</td>\n",
              "      <td>...</td>\n",
              "      <td>53.0</td>\n",
              "      <td>170.0</td>\n",
              "      <td>11.0</td>\n",
              "      <td>0.0</td>\n",
              "      <td>137.0</td>\n",
              "      <td>134.0</td>\n",
              "      <td>137.0</td>\n",
              "      <td>13.0</td>\n",
              "      <td>1.0</td>\n",
              "      <td>1.0</td>\n",
              "    </tr>\n",
              "    <tr>\n",
              "      <th>4</th>\n",
              "      <td>132.0</td>\n",
              "      <td>0.007</td>\n",
              "      <td>0.000</td>\n",
              "      <td>0.008</td>\n",
              "      <td>0.000</td>\n",
              "      <td>0.0</td>\n",
              "      <td>0.0</td>\n",
              "      <td>16.0</td>\n",
              "      <td>2.4</td>\n",
              "      <td>0.0</td>\n",
              "      <td>...</td>\n",
              "      <td>53.0</td>\n",
              "      <td>170.0</td>\n",
              "      <td>9.0</td>\n",
              "      <td>0.0</td>\n",
              "      <td>137.0</td>\n",
              "      <td>136.0</td>\n",
              "      <td>138.0</td>\n",
              "      <td>11.0</td>\n",
              "      <td>1.0</td>\n",
              "      <td>1.0</td>\n",
              "    </tr>\n",
              "    <tr>\n",
              "      <th>...</th>\n",
              "      <td>...</td>\n",
              "      <td>...</td>\n",
              "      <td>...</td>\n",
              "      <td>...</td>\n",
              "      <td>...</td>\n",
              "      <td>...</td>\n",
              "      <td>...</td>\n",
              "      <td>...</td>\n",
              "      <td>...</td>\n",
              "      <td>...</td>\n",
              "      <td>...</td>\n",
              "      <td>...</td>\n",
              "      <td>...</td>\n",
              "      <td>...</td>\n",
              "      <td>...</td>\n",
              "      <td>...</td>\n",
              "      <td>...</td>\n",
              "      <td>...</td>\n",
              "      <td>...</td>\n",
              "      <td>...</td>\n",
              "      <td>...</td>\n",
              "    </tr>\n",
              "    <tr>\n",
              "      <th>2121</th>\n",
              "      <td>140.0</td>\n",
              "      <td>0.000</td>\n",
              "      <td>0.000</td>\n",
              "      <td>0.007</td>\n",
              "      <td>0.000</td>\n",
              "      <td>0.0</td>\n",
              "      <td>0.0</td>\n",
              "      <td>79.0</td>\n",
              "      <td>0.2</td>\n",
              "      <td>25.0</td>\n",
              "      <td>...</td>\n",
              "      <td>137.0</td>\n",
              "      <td>177.0</td>\n",
              "      <td>4.0</td>\n",
              "      <td>0.0</td>\n",
              "      <td>153.0</td>\n",
              "      <td>150.0</td>\n",
              "      <td>152.0</td>\n",
              "      <td>2.0</td>\n",
              "      <td>0.0</td>\n",
              "      <td>2.0</td>\n",
              "    </tr>\n",
              "    <tr>\n",
              "      <th>2122</th>\n",
              "      <td>140.0</td>\n",
              "      <td>0.001</td>\n",
              "      <td>0.000</td>\n",
              "      <td>0.007</td>\n",
              "      <td>0.000</td>\n",
              "      <td>0.0</td>\n",
              "      <td>0.0</td>\n",
              "      <td>78.0</td>\n",
              "      <td>0.4</td>\n",
              "      <td>22.0</td>\n",
              "      <td>...</td>\n",
              "      <td>103.0</td>\n",
              "      <td>169.0</td>\n",
              "      <td>6.0</td>\n",
              "      <td>0.0</td>\n",
              "      <td>152.0</td>\n",
              "      <td>148.0</td>\n",
              "      <td>151.0</td>\n",
              "      <td>3.0</td>\n",
              "      <td>1.0</td>\n",
              "      <td>2.0</td>\n",
              "    </tr>\n",
              "    <tr>\n",
              "      <th>2123</th>\n",
              "      <td>140.0</td>\n",
              "      <td>0.001</td>\n",
              "      <td>0.000</td>\n",
              "      <td>0.007</td>\n",
              "      <td>0.000</td>\n",
              "      <td>0.0</td>\n",
              "      <td>0.0</td>\n",
              "      <td>79.0</td>\n",
              "      <td>0.4</td>\n",
              "      <td>20.0</td>\n",
              "      <td>...</td>\n",
              "      <td>103.0</td>\n",
              "      <td>170.0</td>\n",
              "      <td>5.0</td>\n",
              "      <td>0.0</td>\n",
              "      <td>153.0</td>\n",
              "      <td>148.0</td>\n",
              "      <td>152.0</td>\n",
              "      <td>4.0</td>\n",
              "      <td>1.0</td>\n",
              "      <td>2.0</td>\n",
              "    </tr>\n",
              "    <tr>\n",
              "      <th>2124</th>\n",
              "      <td>140.0</td>\n",
              "      <td>0.001</td>\n",
              "      <td>0.000</td>\n",
              "      <td>0.006</td>\n",
              "      <td>0.000</td>\n",
              "      <td>0.0</td>\n",
              "      <td>0.0</td>\n",
              "      <td>78.0</td>\n",
              "      <td>0.4</td>\n",
              "      <td>27.0</td>\n",
              "      <td>...</td>\n",
              "      <td>103.0</td>\n",
              "      <td>169.0</td>\n",
              "      <td>6.0</td>\n",
              "      <td>0.0</td>\n",
              "      <td>152.0</td>\n",
              "      <td>147.0</td>\n",
              "      <td>151.0</td>\n",
              "      <td>4.0</td>\n",
              "      <td>1.0</td>\n",
              "      <td>2.0</td>\n",
              "    </tr>\n",
              "    <tr>\n",
              "      <th>2125</th>\n",
              "      <td>142.0</td>\n",
              "      <td>0.002</td>\n",
              "      <td>0.002</td>\n",
              "      <td>0.008</td>\n",
              "      <td>0.000</td>\n",
              "      <td>0.0</td>\n",
              "      <td>0.0</td>\n",
              "      <td>74.0</td>\n",
              "      <td>0.4</td>\n",
              "      <td>36.0</td>\n",
              "      <td>...</td>\n",
              "      <td>117.0</td>\n",
              "      <td>159.0</td>\n",
              "      <td>2.0</td>\n",
              "      <td>1.0</td>\n",
              "      <td>145.0</td>\n",
              "      <td>143.0</td>\n",
              "      <td>145.0</td>\n",
              "      <td>1.0</td>\n",
              "      <td>0.0</td>\n",
              "      <td>1.0</td>\n",
              "    </tr>\n",
              "  </tbody>\n",
              "</table>\n",
              "<p>2126 rows × 22 columns</p>\n",
              "</div>\n",
              "    <div class=\"colab-df-buttons\">\n",
              "\n",
              "  <div class=\"colab-df-container\">\n",
              "    <button class=\"colab-df-convert\" onclick=\"convertToInteractive('df-2050e841-355c-452f-95df-20fbfdb4517c')\"\n",
              "            title=\"Convert this dataframe to an interactive table.\"\n",
              "            style=\"display:none;\">\n",
              "\n",
              "  <svg xmlns=\"http://www.w3.org/2000/svg\" height=\"24px\" viewBox=\"0 -960 960 960\">\n",
              "    <path d=\"M120-120v-720h720v720H120Zm60-500h600v-160H180v160Zm220 220h160v-160H400v160Zm0 220h160v-160H400v160ZM180-400h160v-160H180v160Zm440 0h160v-160H620v160ZM180-180h160v-160H180v160Zm440 0h160v-160H620v160Z\"/>\n",
              "  </svg>\n",
              "    </button>\n",
              "\n",
              "  <style>\n",
              "    .colab-df-container {\n",
              "      display:flex;\n",
              "      gap: 12px;\n",
              "    }\n",
              "\n",
              "    .colab-df-convert {\n",
              "      background-color: #E8F0FE;\n",
              "      border: none;\n",
              "      border-radius: 50%;\n",
              "      cursor: pointer;\n",
              "      display: none;\n",
              "      fill: #1967D2;\n",
              "      height: 32px;\n",
              "      padding: 0 0 0 0;\n",
              "      width: 32px;\n",
              "    }\n",
              "\n",
              "    .colab-df-convert:hover {\n",
              "      background-color: #E2EBFA;\n",
              "      box-shadow: 0px 1px 2px rgba(60, 64, 67, 0.3), 0px 1px 3px 1px rgba(60, 64, 67, 0.15);\n",
              "      fill: #174EA6;\n",
              "    }\n",
              "\n",
              "    .colab-df-buttons div {\n",
              "      margin-bottom: 4px;\n",
              "    }\n",
              "\n",
              "    [theme=dark] .colab-df-convert {\n",
              "      background-color: #3B4455;\n",
              "      fill: #D2E3FC;\n",
              "    }\n",
              "\n",
              "    [theme=dark] .colab-df-convert:hover {\n",
              "      background-color: #434B5C;\n",
              "      box-shadow: 0px 1px 3px 1px rgba(0, 0, 0, 0.15);\n",
              "      filter: drop-shadow(0px 1px 2px rgba(0, 0, 0, 0.3));\n",
              "      fill: #FFFFFF;\n",
              "    }\n",
              "  </style>\n",
              "\n",
              "    <script>\n",
              "      const buttonEl =\n",
              "        document.querySelector('#df-2050e841-355c-452f-95df-20fbfdb4517c button.colab-df-convert');\n",
              "      buttonEl.style.display =\n",
              "        google.colab.kernel.accessAllowed ? 'block' : 'none';\n",
              "\n",
              "      async function convertToInteractive(key) {\n",
              "        const element = document.querySelector('#df-2050e841-355c-452f-95df-20fbfdb4517c');\n",
              "        const dataTable =\n",
              "          await google.colab.kernel.invokeFunction('convertToInteractive',\n",
              "                                                    [key], {});\n",
              "        if (!dataTable) return;\n",
              "\n",
              "        const docLinkHtml = 'Like what you see? Visit the ' +\n",
              "          '<a target=\"_blank\" href=https://colab.research.google.com/notebooks/data_table.ipynb>data table notebook</a>'\n",
              "          + ' to learn more about interactive tables.';\n",
              "        element.innerHTML = '';\n",
              "        dataTable['output_type'] = 'display_data';\n",
              "        await google.colab.output.renderOutput(dataTable, element);\n",
              "        const docLink = document.createElement('div');\n",
              "        docLink.innerHTML = docLinkHtml;\n",
              "        element.appendChild(docLink);\n",
              "      }\n",
              "    </script>\n",
              "  </div>\n",
              "\n",
              "\n",
              "    <div id=\"df-c787b8e1-eea9-467e-ab2a-d770d96814b7\">\n",
              "      <button class=\"colab-df-quickchart\" onclick=\"quickchart('df-c787b8e1-eea9-467e-ab2a-d770d96814b7')\"\n",
              "                title=\"Suggest charts\"\n",
              "                style=\"display:none;\">\n",
              "\n",
              "<svg xmlns=\"http://www.w3.org/2000/svg\" height=\"24px\"viewBox=\"0 0 24 24\"\n",
              "     width=\"24px\">\n",
              "    <g>\n",
              "        <path d=\"M19 3H5c-1.1 0-2 .9-2 2v14c0 1.1.9 2 2 2h14c1.1 0 2-.9 2-2V5c0-1.1-.9-2-2-2zM9 17H7v-7h2v7zm4 0h-2V7h2v10zm4 0h-2v-4h2v4z\"/>\n",
              "    </g>\n",
              "</svg>\n",
              "      </button>\n",
              "\n",
              "<style>\n",
              "  .colab-df-quickchart {\n",
              "      --bg-color: #E8F0FE;\n",
              "      --fill-color: #1967D2;\n",
              "      --hover-bg-color: #E2EBFA;\n",
              "      --hover-fill-color: #174EA6;\n",
              "      --disabled-fill-color: #AAA;\n",
              "      --disabled-bg-color: #DDD;\n",
              "  }\n",
              "\n",
              "  [theme=dark] .colab-df-quickchart {\n",
              "      --bg-color: #3B4455;\n",
              "      --fill-color: #D2E3FC;\n",
              "      --hover-bg-color: #434B5C;\n",
              "      --hover-fill-color: #FFFFFF;\n",
              "      --disabled-bg-color: #3B4455;\n",
              "      --disabled-fill-color: #666;\n",
              "  }\n",
              "\n",
              "  .colab-df-quickchart {\n",
              "    background-color: var(--bg-color);\n",
              "    border: none;\n",
              "    border-radius: 50%;\n",
              "    cursor: pointer;\n",
              "    display: none;\n",
              "    fill: var(--fill-color);\n",
              "    height: 32px;\n",
              "    padding: 0;\n",
              "    width: 32px;\n",
              "  }\n",
              "\n",
              "  .colab-df-quickchart:hover {\n",
              "    background-color: var(--hover-bg-color);\n",
              "    box-shadow: 0 1px 2px rgba(60, 64, 67, 0.3), 0 1px 3px 1px rgba(60, 64, 67, 0.15);\n",
              "    fill: var(--button-hover-fill-color);\n",
              "  }\n",
              "\n",
              "  .colab-df-quickchart-complete:disabled,\n",
              "  .colab-df-quickchart-complete:disabled:hover {\n",
              "    background-color: var(--disabled-bg-color);\n",
              "    fill: var(--disabled-fill-color);\n",
              "    box-shadow: none;\n",
              "  }\n",
              "\n",
              "  .colab-df-spinner {\n",
              "    border: 2px solid var(--fill-color);\n",
              "    border-color: transparent;\n",
              "    border-bottom-color: var(--fill-color);\n",
              "    animation:\n",
              "      spin 1s steps(1) infinite;\n",
              "  }\n",
              "\n",
              "  @keyframes spin {\n",
              "    0% {\n",
              "      border-color: transparent;\n",
              "      border-bottom-color: var(--fill-color);\n",
              "      border-left-color: var(--fill-color);\n",
              "    }\n",
              "    20% {\n",
              "      border-color: transparent;\n",
              "      border-left-color: var(--fill-color);\n",
              "      border-top-color: var(--fill-color);\n",
              "    }\n",
              "    30% {\n",
              "      border-color: transparent;\n",
              "      border-left-color: var(--fill-color);\n",
              "      border-top-color: var(--fill-color);\n",
              "      border-right-color: var(--fill-color);\n",
              "    }\n",
              "    40% {\n",
              "      border-color: transparent;\n",
              "      border-right-color: var(--fill-color);\n",
              "      border-top-color: var(--fill-color);\n",
              "    }\n",
              "    60% {\n",
              "      border-color: transparent;\n",
              "      border-right-color: var(--fill-color);\n",
              "    }\n",
              "    80% {\n",
              "      border-color: transparent;\n",
              "      border-right-color: var(--fill-color);\n",
              "      border-bottom-color: var(--fill-color);\n",
              "    }\n",
              "    90% {\n",
              "      border-color: transparent;\n",
              "      border-bottom-color: var(--fill-color);\n",
              "    }\n",
              "  }\n",
              "</style>\n",
              "\n",
              "      <script>\n",
              "        async function quickchart(key) {\n",
              "          const quickchartButtonEl =\n",
              "            document.querySelector('#' + key + ' button');\n",
              "          quickchartButtonEl.disabled = true;  // To prevent multiple clicks.\n",
              "          quickchartButtonEl.classList.add('colab-df-spinner');\n",
              "          try {\n",
              "            const charts = await google.colab.kernel.invokeFunction(\n",
              "                'suggestCharts', [key], {});\n",
              "          } catch (error) {\n",
              "            console.error('Error during call to suggestCharts:', error);\n",
              "          }\n",
              "          quickchartButtonEl.classList.remove('colab-df-spinner');\n",
              "          quickchartButtonEl.classList.add('colab-df-quickchart-complete');\n",
              "        }\n",
              "        (() => {\n",
              "          let quickchartButtonEl =\n",
              "            document.querySelector('#df-c787b8e1-eea9-467e-ab2a-d770d96814b7 button');\n",
              "          quickchartButtonEl.style.display =\n",
              "            google.colab.kernel.accessAllowed ? 'block' : 'none';\n",
              "        })();\n",
              "      </script>\n",
              "    </div>\n",
              "\n",
              "  <div id=\"id_5960ca6d-1c5c-4fb0-87f9-10b1e9f865e8\">\n",
              "    <style>\n",
              "      .colab-df-generate {\n",
              "        background-color: #E8F0FE;\n",
              "        border: none;\n",
              "        border-radius: 50%;\n",
              "        cursor: pointer;\n",
              "        display: none;\n",
              "        fill: #1967D2;\n",
              "        height: 32px;\n",
              "        padding: 0 0 0 0;\n",
              "        width: 32px;\n",
              "      }\n",
              "\n",
              "      .colab-df-generate:hover {\n",
              "        background-color: #E2EBFA;\n",
              "        box-shadow: 0px 1px 2px rgba(60, 64, 67, 0.3), 0px 1px 3px 1px rgba(60, 64, 67, 0.15);\n",
              "        fill: #174EA6;\n",
              "      }\n",
              "\n",
              "      [theme=dark] .colab-df-generate {\n",
              "        background-color: #3B4455;\n",
              "        fill: #D2E3FC;\n",
              "      }\n",
              "\n",
              "      [theme=dark] .colab-df-generate:hover {\n",
              "        background-color: #434B5C;\n",
              "        box-shadow: 0px 1px 3px 1px rgba(0, 0, 0, 0.15);\n",
              "        filter: drop-shadow(0px 1px 2px rgba(0, 0, 0, 0.3));\n",
              "        fill: #FFFFFF;\n",
              "      }\n",
              "    </style>\n",
              "    <button class=\"colab-df-generate\" onclick=\"generateWithVariable('data')\"\n",
              "            title=\"Generate code using this dataframe.\"\n",
              "            style=\"display:none;\">\n",
              "\n",
              "  <svg xmlns=\"http://www.w3.org/2000/svg\" height=\"24px\"viewBox=\"0 0 24 24\"\n",
              "       width=\"24px\">\n",
              "    <path d=\"M7,19H8.4L18.45,9,17,7.55,7,17.6ZM5,21V16.75L18.45,3.32a2,2,0,0,1,2.83,0l1.4,1.43a1.91,1.91,0,0,1,.58,1.4,1.91,1.91,0,0,1-.58,1.4L9.25,21ZM18.45,9,17,7.55Zm-12,3A5.31,5.31,0,0,0,4.9,8.1,5.31,5.31,0,0,0,1,6.5,5.31,5.31,0,0,0,4.9,4.9,5.31,5.31,0,0,0,6.5,1,5.31,5.31,0,0,0,8.1,4.9,5.31,5.31,0,0,0,12,6.5,5.46,5.46,0,0,0,6.5,12Z\"/>\n",
              "  </svg>\n",
              "    </button>\n",
              "    <script>\n",
              "      (() => {\n",
              "      const buttonEl =\n",
              "        document.querySelector('#id_5960ca6d-1c5c-4fb0-87f9-10b1e9f865e8 button.colab-df-generate');\n",
              "      buttonEl.style.display =\n",
              "        google.colab.kernel.accessAllowed ? 'block' : 'none';\n",
              "\n",
              "      buttonEl.onclick = () => {\n",
              "        google.colab.notebook.generateWithVariable('data');\n",
              "      }\n",
              "      })();\n",
              "    </script>\n",
              "  </div>\n",
              "\n",
              "    </div>\n",
              "  </div>\n"
            ],
            "application/vnd.google.colaboratory.intrinsic+json": {
              "type": "dataframe",
              "variable_name": "data"
            }
          },
          "metadata": {}
        },
        {
          "output_type": "stream",
          "name": "stdout",
          "text": [
            "<class 'pandas.core.frame.DataFrame'>\n",
            "RangeIndex: 2126 entries, 0 to 2125\n",
            "Data columns (total 22 columns):\n",
            " #   Column                                                  Non-Null Count  Dtype  \n",
            "---  ------                                                  --------------  -----  \n",
            " 0   baseline value                                          2126 non-null   float64\n",
            " 1   accelerations                                           2126 non-null   float64\n",
            " 2   fetal_movement                                          2126 non-null   float64\n",
            " 3   uterine_contractions                                    2126 non-null   float64\n",
            " 4   light_decelerations                                     2126 non-null   float64\n",
            " 5   severe_decelerations                                    2126 non-null   float64\n",
            " 6   prolongued_decelerations                                2126 non-null   float64\n",
            " 7   abnormal_short_term_variability                         2126 non-null   float64\n",
            " 8   mean_value_of_short_term_variability                    2126 non-null   float64\n",
            " 9   percentage_of_time_with_abnormal_long_term_variability  2126 non-null   float64\n",
            " 10  mean_value_of_long_term_variability                     2126 non-null   float64\n",
            " 11  histogram_width                                         2126 non-null   float64\n",
            " 12  histogram_min                                           2126 non-null   float64\n",
            " 13  histogram_max                                           2126 non-null   float64\n",
            " 14  histogram_number_of_peaks                               2126 non-null   float64\n",
            " 15  histogram_number_of_zeroes                              2126 non-null   float64\n",
            " 16  histogram_mode                                          2126 non-null   float64\n",
            " 17  histogram_mean                                          2126 non-null   float64\n",
            " 18  histogram_median                                        2126 non-null   float64\n",
            " 19  histogram_variance                                      2126 non-null   float64\n",
            " 20  histogram_tendency                                      2126 non-null   float64\n",
            " 21  fetal_health                                            2126 non-null   float64\n",
            "dtypes: float64(22)\n",
            "memory usage: 365.5 KB\n"
          ]
        }
      ],
      "source": [
        "data = pd.read_csv(file_path)\n",
        "display(data)\n",
        "data.info()"
      ]
    },
    {
      "cell_type": "markdown",
      "metadata": {
        "id": "6y3dmKjrWr-4"
      },
      "source": [
        "# เช็คข้อมูลเป็น null"
      ]
    },
    {
      "cell_type": "code",
      "execution_count": 11,
      "metadata": {
        "colab": {
          "base_uri": "https://localhost:8080/"
        },
        "id": "zcmL62vmWZsi",
        "outputId": "edf99eeb-099c-401e-dee6-53bfc8a046db"
      },
      "outputs": [
        {
          "output_type": "stream",
          "name": "stdout",
          "text": [
            "'Data Shape: (2126, 22)'\n",
            "'Missing values: 0'\n"
          ]
        }
      ],
      "source": [
        "pprint(f\"Data Shape: {data.shape}\")\n",
        "pprint(f\"Missing values: {data.isnull().sum().sum()}\")"
      ]
    },
    {
      "cell_type": "markdown",
      "metadata": {
        "id": "kftdSsVdWyi1"
      },
      "source": [
        "## เช็คค่าซ้ำกัน\n"
      ]
    },
    {
      "cell_type": "code",
      "execution_count": 12,
      "metadata": {
        "colab": {
          "base_uri": "https://localhost:8080/"
        },
        "id": "ggXeFlsCW22m",
        "outputId": "5c170fdb-89aa-43fe-c64d-e30f9696b995"
      },
      "outputs": [
        {
          "output_type": "execute_result",
          "data": {
            "text/plain": [
              "np.int64(13)"
            ]
          },
          "metadata": {},
          "execution_count": 12
        }
      ],
      "source": [
        "data.duplicated().sum()"
      ]
    },
    {
      "cell_type": "markdown",
      "metadata": {
        "id": "rP4Uk16xXDZi"
      },
      "source": [
        "## มีการลบค่าที่ซ้ำกัน"
      ]
    },
    {
      "cell_type": "code",
      "execution_count": 13,
      "metadata": {
        "colab": {
          "base_uri": "https://localhost:8080/"
        },
        "id": "UhZS3q8JW4wL",
        "outputId": "df8729f6-a547-4568-b6f6-65778e197bbf"
      },
      "outputs": [
        {
          "output_type": "stream",
          "name": "stdout",
          "text": [
            "ขนาดก่อนลบ: (2126, 22)\n",
            "ขนาดหลังลบ: (2113, 22)\n"
          ]
        }
      ],
      "source": [
        "\n",
        "print(\"ขนาดก่อนลบ:\", data.shape)\n",
        "data = data.drop_duplicates(keep=\"first\")\n",
        "print(\"ขนาดหลังลบ:\", data.shape)"
      ]
    },
    {
      "cell_type": "code",
      "execution_count": 14,
      "metadata": {
        "colab": {
          "base_uri": "https://localhost:8080/"
        },
        "id": "8sXejw--XPUc",
        "outputId": "3963c5eb-97ed-4968-c0ab-e0d9fa92b942"
      },
      "outputs": [
        {
          "output_type": "stream",
          "name": "stdout",
          "text": [
            "fetal_health\n",
            "1.0    1646\n",
            "2.0     292\n",
            "3.0     175\n",
            "Name: count, dtype: int64\n"
          ]
        }
      ],
      "source": [
        "# Counts per class (sorted by feature label)\n",
        "pprint(data['fetal_health'].value_counts(sort=True))"
      ]
    },
    {
      "cell_type": "code",
      "execution_count": 15,
      "metadata": {
        "colab": {
          "base_uri": "https://localhost:8080/"
        },
        "id": "-Yuv0jqbXX_q",
        "outputId": "f90b7029-5dc5-4e33-c461-bd6445571300"
      },
      "outputs": [
        {
          "output_type": "stream",
          "name": "stdout",
          "text": [
            "fetal_health\n",
            "1.0    77.8987\n",
            "2.0    13.8192\n",
            "3.0     8.2821\n",
            "Name: proportion, dtype: float64\n"
          ]
        }
      ],
      "source": [
        "# Percentage per class\n",
        "pprint(data['fetal_health'].value_counts(normalize=True, sort=True)\n",
        "     .mul(100).round(4))"
      ]
    },
    {
      "cell_type": "code",
      "execution_count": 16,
      "metadata": {
        "colab": {
          "base_uri": "https://localhost:8080/",
          "height": 415
        },
        "id": "F7KyhPwQXYZE",
        "outputId": "c448f1b5-82c2-44be-fc34-9333869f665b"
      },
      "outputs": [
        {
          "output_type": "display_data",
          "data": {
            "text/plain": [
              "<Figure size 800x500 with 1 Axes>"
            ],
            "image/png": "[encoded data removed]"
          },
          "metadata": {}
        }
      ],
      "source": [
        "# Class distribution\n",
        "plt.figure(figsize=(8,5))\n",
        "sns.countplot(x='fetal_health', data=data, palette='Greens')\n",
        "plt.title('Fetal Health Class Distribution')\n",
        "plt.xlabel('Class (1: Normal, 2: Suspect, 3: Pathological)')\n",
        "plt.ylabel('Count')\n",
        "plt.show()"
      ]
    },
    {
      "cell_type": "markdown",
      "metadata": {
        "id": "ZDQ2E_8JXkp2"
      },
      "source": [
        "# นำข้อมูลแบ่ง เทรน เทส"
      ]
    },
    {
      "cell_type": "code",
      "execution_count": 17,
      "metadata": {
        "id": "BIpBNrJvXp8T"
      },
      "outputs": [],
      "source": [
        "X = data.drop(columns=['fetal_health']).copy()\n",
        "y = data['fetal_health']"
      ]
    },
    {
      "cell_type": "code",
      "execution_count": 18,
      "metadata": {
        "colab": {
          "base_uri": "https://localhost:8080/"
        },
        "id": "np3jWVX6X0R-",
        "outputId": "9abcd08f-9d45-4f02-e429-9379040b39cc"
      },
      "outputs": [
        {
          "output_type": "stream",
          "name": "stdout",
          "text": [
            "(2113, 21) (2113,)\n"
          ]
        }
      ],
      "source": [
        "print(X.shape, y.shape)"
      ]
    },
    {
      "cell_type": "markdown",
      "metadata": {
        "id": "ncY9Xb8IYLyr"
      },
      "source": [
        "### เช็คว่า คอลัมน์ target ('fetal_health') ไม่ได้ปะปนอยู่ใน X (ชุดฟีเจอร์)"
      ]
    },
    {
      "cell_type": "code",
      "execution_count": 19,
      "metadata": {
        "id": "ExdEylsrYG6Z"
      },
      "outputs": [],
      "source": [
        "assert 'fetal_health' not in X.columns"
      ]
    },
    {
      "cell_type": "markdown",
      "metadata": {
        "id": "oUtPN2OOY65G"
      },
      "source": [
        "## fn ทำ DataSplit"
      ]
    },
    {
      "cell_type": "markdown",
      "metadata": {
        "id": "tvzb3W1maT7c"
      },
      "source": [
        "# setup Stratified"
      ]
    },
    {
      "cell_type": "code",
      "execution_count": 20,
      "metadata": {
        "id": "Ffgv26muaS9u"
      },
      "outputs": [],
      "source": [
        "cv = StratifiedKFold(n_splits=5, shuffle=True, random_state=SEED)"
      ]
    },
    {
      "cell_type": "markdown",
      "metadata": {
        "id": "5OpsY4NsLc6w"
      },
      "source": [
        "## นำข้อมูลเข้า model"
      ]
    },
    {
      "cell_type": "code",
      "execution_count": 21,
      "metadata": {
        "id": "ed2sMAvGLbmM"
      },
      "outputs": [],
      "source": [
        "\n",
        "X_train, X_test, y_train, y_test = train_test_split(\n",
        "    X, y, test_size=0.2, stratify=y, random_state=42\n",
        ")"
      ]
    },
    {
      "cell_type": "markdown",
      "metadata": {
        "id": "Iw_Kf9aJM8vn"
      },
      "source": [
        "หาว่าเข้าโมเดลตัวไหนฉลาดสุด"
      ]
    },
    {
      "cell_type": "markdown",
      "metadata": {
        "id": "Uwz72cQxNkGT"
      },
      "source": [
        "**max_features =**<br>\n",
        "\n",
        "--- ใช้ฟิวเจอร์สุ่มต่อโหนดสุ่ม ---\n",
        "\n",
        "- *\"sqrt\"* = ดีเป็นค่าเริ่มสำหรับ classification (ลดการพึ่งพาฟีเจอร์เดิม ๆ ทำให้ต้นไม้หลากหลายขึ้น) ⌊√p⌋\n",
        "- *\"log2\"* = สุ่มน้อยกว่า \"sqrt\" → ความหลากหลายสูงขึ้นอีก (variance ↓ มาก, แต่ bias ↑ ได้) ⌊log₂(p)⌋<br>\n",
        "\n",
        "--- ทุกฟิวเจอร์ --\n",
        "\n",
        "- *None* = ความหลากหลายของต้นลดลง, เสี่ยง overfit มากขึ้น, ช้าลง\n",
        "\n",
        "-- ค่าคงที่ ---\n",
        "\n",
        "- *int* = (เช่น max_features=10) → ใช้ฟีเจอร์สุ่ม คงที่ k ตัว ต่อโหนด\n",
        "\n",
        "กำหนดจำนวนตรง ๆ\n",
        "\n",
        "--- ต่อสัดส่วน ---\n",
        "\n",
        "- *float(0-1)* = (เช่น max_features=0.3) → ใช้ สัดส่วนของฟีเจอร์ต่อโหนด = ⌊p × fraction⌋\n",
        "\n",
        "เช่น p=64, 0.3 → ⌊19.2⌋ = 19\n",
        "\n",
        "\n",
        "--- ไม่รู้ใส่ auto ---\n",
        "\n",
        "- \"auto\" = เลิกใช้/Deprecated ในเวอร์ชันใหม่:\n",
        "\n",
        "สำหรับ classifier เคยเท่ากับ \"sqrt\"\n",
        "\n",
        "แนะนำ อย่าใช้ ให้ระบุ \"sqrt\" ตรง ๆ\n",
        "\n",
        "\n"
      ]
    },
    {
      "cell_type": "markdown",
      "metadata": {
        "id": "gYB3EwaWQbJ8"
      },
      "source": [
        "**ตั้งยังไง “ให้เหมาะ”**\n",
        "\n",
        "- เริ่มที่ \"sqrt\" สำหรับ classification (จุดสมดุลดีมากโดยทั่วไป)\n",
        "\n",
        "- ถ้าโมเดลยัง overfit / อยากเพิ่มความหลากหลายของป่า → ลองลดลงเป็น \"log2\" หรือ ค่า float เล็กลง (เช่น 0.2–0.3)\n",
        "\n",
        "- ถ้าฟีเจอร์ น้อยมาก หรือ เกี่ยวข้องสูงหลายตัว → เพิ่มเป็น ค่ามากขึ้น (เช่น 0.7 หรือ None) เพื่อให้แต่ละโหนดเห็นข้อมูลมากขึ้น\n",
        "\n",
        "- ถ้า p ใหญ่และไร้สาระเยอะ → ใช้ \"sqrt\" หรือแม้กระทั่ง \"log2\" เพื่อกันแตกแขนงตาม noise และให้เทรนเร็วขึ้น\n",
        "\n",
        "- ใช้ CV ตัดสิน: ใส่ในกริดแล้วดู f1_macro/balanced_accuracy และเวลาเทรน"
      ]
    },
    {
      "cell_type": "code",
      "execution_count": 22,
      "metadata": {
        "id": "STDq6IqIQaSF"
      },
      "outputs": [],
      "source": [
        "from sklearn.ensemble import RandomForestClassifier\n",
        "from scipy.stats import randint, uniform  # ใช้แจกแจงต่อเนื่อง/จำนวนเต็ม\n",
        "from sklearn.model_selection import RandomizedSearchCV, StratifiedKFold"
      ]
    },
    {
      "cell_type": "markdown",
      "metadata": {
        "id": "eoWIFzG5BZuB"
      },
      "source": [
        "อันนี้ตัวหลักการใช้ ใช้RandomizedSearchCV มีการสุ่ม แล้วหาค่าที่ดีที่สุด"
      ]
    },
    {
      "cell_type": "code",
      "source": [
        "from sklearn.model_selection import RandomizedSearchCV, StratifiedKFold\n",
        "from sklearn.ensemble import RandomForestClassifier\n",
        "from sklearn.metrics import make_scorer, f1_score\n",
        "from scipy.stats import randint, loguniform  # ติดตั้ง scipy แล้ว\n",
        "import numpy as np\n",
        "\n",
        "cv = StratifiedKFold(n_splits=5, shuffle=True, random_state=42)\n",
        "\n",
        "param_distributions = {\n",
        "    \"n_estimators\": randint(200, 1000),\n",
        "    \"min_samples_leaf\" : randint(2,50),\n",
        "    \"max_leaf_nodes\" : randint(1,50),\n",
        "    \"min_samples_split\" : randint(2,50),\n",
        "\n",
        "}\n",
        "\n",
        "\n",
        "rf = RandomForestClassifier(\n",
        "    random_state=42,\n",
        "    n_jobs=-1,\n",
        "    max_features=\"sqrt\",\n",
        "    class_weight=\"balanced\",  # ถ้าใช้ SMOTE ใน pipeline แนะนำลอง None ด้วยแล้วเทียบ\n",
        "    bootstrap=True,\n",
        "    oob_score=True,           # เปิด OOB ได้ แต่อย่าปะปนกับคะแนน CV\n",
        "    criterion=\"gini\"\n",
        ")\n",
        "\n",
        "\n",
        "search = RandomizedSearchCV(\n",
        "   estimator=rf,\n",
        "    param_distributions=param_distributions,\n",
        "    n_iter=80,\n",
        "    cv=cv,\n",
        "    scoring={\"f1\":\"f1_macro\", \"bal_acc\":\"balanced_accuracy\"},\n",
        "    refit=\"f1\",                  # เลือกโมเดลสุดท้ายด้วย f1_macro\n",
        "    n_jobs=-1,\n",
        "    random_state=42,\n",
        "    verbose=1,\n",
        "    return_train_score=False,\n",
        "\n",
        ")\n",
        "search.fit(X_train, y_train)\n",
        "best_model = search.best_estimator_\n",
        "best_params = search.best_params_\n",
        "print(best_params)"
      ],
      "metadata": {
        "id": "7cq3fDCqDecG",
        "colab": {
          "base_uri": "https://localhost:8080/"
        },
        "outputId": "3af2584e-ec9f-4602-e451-dbf707e5e340"
      },
      "execution_count": 23,
      "outputs": [
        {
          "output_type": "stream",
          "name": "stdout",
          "text": [
            "Fitting 5 folds for each of 80 candidates, totalling 400 fits\n",
            "{'max_leaf_nodes': 49, 'min_samples_leaf': 3, 'min_samples_split': 2, 'n_estimators': 503}\n"
          ]
        }
      ]
    },
    {
      "cell_type": "markdown",
      "source": [
        "\n"
      ],
      "metadata": {
        "id": "wlftZcIa46UJ"
      }
    },
    {
      "cell_type": "code",
      "execution_count": 24,
      "metadata": {
        "id": "VqKZdDGfGvgx"
      },
      "outputs": [],
      "source": [
        "best_params = {\n",
        "    \"max_leaf_nodes\": 49,\n",
        "    \"min_samples_leaf\" : 3,\n",
        "    \"min_samples_leaf\": 5,\n",
        "    \"n_estimators\": 503,\n",
        "}\n",
        "\n",
        "# --- วิธีที่ 1: สร้างโมเดลใหม่ พร้อม base settings ที่ใช้อยู่ ---\n",
        "rf_final = RandomForestClassifier(\n",
        "    **best_params,\n",
        "    random_state=42,\n",
        "    n_jobs=-1,\n",
        "    class_weight=\"balanced\",   # ถ้าใช้ SMOTE ใน pipeline ลองเทียบกับ None ได้\n",
        "    max_features=\"sqrt\",\n",
        "    bootstrap=True,\n",
        "    oob_score=True,\n",
        "    criterion=\"gini\",\n",
        ")\n",
        "rf_final.fit(X_train, y_train)\n",
        "y_pred = search.predict(X_test)"
      ]
    },
    {
      "cell_type": "code",
      "execution_count": 25,
      "metadata": {
        "id": "u8VtIm0l9rzV",
        "colab": {
          "base_uri": "https://localhost:8080/"
        },
        "outputId": "6b920da5-e680-4439-f2a1-09b051b325c8"
      },
      "outputs": [
        {
          "output_type": "stream",
          "name": "stdout",
          "text": [
            "F1-macro: 0.8903722478836288\n",
            "Balanced accuracy: 0.892098323132806\n"
          ]
        }
      ],
      "source": [
        "from sklearn.metrics import f1_score, balanced_accuracy_score\n",
        "print(\"F1-macro:\", f1_score(y_test, y_pred, average=\"macro\"))\n",
        "print(\"Balanced accuracy:\", balanced_accuracy_score(y_test, y_pred))\n"
      ]
    },
    {
      "cell_type": "code",
      "execution_count": 26,
      "metadata": {
        "id": "UmFIHkItMATF",
        "colab": {
          "base_uri": "https://localhost:8080/",
          "height": 109
        },
        "outputId": "53d5c954-dd83-432d-fc52-a25a74002a40"
      },
      "outputs": [
        {
          "output_type": "error",
          "ename": "SyntaxError",
          "evalue": "unmatched '}' (ipython-input-734416005.py, line 11)",
          "traceback": [
            "\u001b[0;36m  File \u001b[0;32m\"/tmp/ipython-input-734416005.py\"\u001b[0;36m, line \u001b[0;32m11\u001b[0m\n\u001b[0;31m    }\u001b[0m\n\u001b[0m    ^\u001b[0m\n\u001b[0;31mSyntaxError\u001b[0m\u001b[0;31m:\u001b[0m unmatched '}'\n"
          ]
        }
      ],
      "source": [
        "# 1) กำหนดพื้นที่การค้นหา (search space)\n",
        "#param_dist = {\n",
        "    #\"n_estimators\": randint(200, 1200),      # จำนวนต้นไม้\n",
        "    #\"max_depth\": randint(3, 40),             # ความลึกสูงสุด (หรือจะใส่ [None, ...] ก็ได้)\n",
        "    #\"min_samples_split\": randint(2, 20),     # min samples เพื่อแตกโหนด\n",
        "    #\"min_samples_leaf\": randint(1, 20),      # min samples ที่ใบ\n",
        "    #\"max_features\": [\"sqrt\", \"log2\", None],  # เลือกฟีเจอร์ต่อโหนด\n",
        "    #\"bootstrap\": [True, False],               # เปิด/ปิด bootstrap\n",
        "    #\"class_weight\": [None, \"balanced\"]        # ถ้า class ไม่สมดุล ลอง 'balanced'\n",
        "    # ถ้าข้อมูลใหญ่มากและใช้ bootstrap=True จะลอง \"max_samples\": uniform(0.5, 0.5) ก็ได้\n",
        "#}\n",
        "\n",
        "# 2) ตั้งค่า CV: StratifiedKFold + shuffle เพื่อสุ่มสับข้อมูลแต่ละ fold\n",
        "#cv = StratifiedKFold(n_splits=5, shuffle=True, random_state=42)\n",
        "\n",
        "# 3) โมเดลฐาน\n",
        "#rf = RandomForestClassifier(random_state=42, n_jobs=-1)\n",
        "\n",
        "# 4) Randomized search\n",
        "#search = RandomizedSearchCV(\n",
        "    #estimator=rf,\n",
        "    #param_distributions=param_dist,\n",
        "    #n_iter=60,                       # จำนวนชุดพารามิเตอร์ที่สุ่มลอง (ปรับตามเวลา/ทรัพยากร)\n",
        "    #scoring={\"roc_auc\": \"roc_auc\", \"f1\": \"f1_macro\", \"accuracy\": \"accuracy\"},\n",
        "    #refit=\"roc_auc\",                 # เลือกตัวชนะด้วย roc_auc แล้วฟิตใหม่ทั้งชุด\n",
        "    #cv=cv,\n",
        "    #n_jobs=-1,\n",
        "    #random_state=42,                 # ทำให้การสุ่มของ RandomizedSearchCV reproducible\n",
        "    #verbose=1,\n",
        "    #return_train_score=True\n",
        "#)\n",
        "\n",
        "# 5) ฝึกและดูผล\n",
        "#search.fit(X, y)\n",
        "#print(\"Best params:\", search.best_params_)\n",
        "##print(\"Best CV ROC-AUC:\", search.best_score_)\n",
        "#best_model = search.best_estimator_"
      ]
    }
  ],
  "metadata": {
    "colab": {
      "provenance": [],
      "authorship_tag": "ABX9TyMbCeo1QR1XaWrO+kW8S5nP",
      "include_colab_link": true
    },
    "kernelspec": {
      "display_name": "Python 3",
      "name": "python3"
    },
    "language_info": {
      "name": "python"
    }
  },
  "nbformat": 4,
  "nbformat_minor": 0
}