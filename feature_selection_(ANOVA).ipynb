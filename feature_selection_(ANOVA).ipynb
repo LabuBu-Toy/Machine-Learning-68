{
  "nbformat": 4,
  "nbformat_minor": 0,
  "metadata": {
    "colab": {
      "provenance": [],
      "authorship_tag": "ABX9TyNetjLzzhzHw8BLZT70bIHA",
      "include_colab_link": true
    },
    "kernelspec": {
      "name": "python3",
      "display_name": "Python 3"
    },
    "language_info": {
      "name": "python"
    }
  },
  "cells": [
    {
      "cell_type": "markdown",
      "metadata": {
        "id": "view-in-github",
        "colab_type": "text"
      },
      "source": [
        "<a href=\"https://colab.research.google.com/github/Napawan2005/Machine-Learning-68/blob/main/feature_selection_(ANOVA).ipynb\" target=\"_parent\"><img src=\"https://colab.research.google.com/assets/colab-badge.svg\" alt=\"Open In Colab\"/></a>"
      ]
    },
    {
      "cell_type": "code",
      "execution_count": 1,
      "metadata": {
        "id": "3x3D6Iw6Rrpt"
      },
      "outputs": [],
      "source": [
        "import numpy as np\n",
        "import pandas as pd\n",
        "from pathlib import Path\n",
        "\n",
        "from sklearn.model_selection import StratifiedKFold, train_test_split, RandomizedSearchCV\n",
        "from sklearn.pipeline import Pipeline\n",
        "from sklearn.feature_selection import SelectKBest, f_classif\n",
        "from sklearn.ensemble import RandomForestClassifier\n",
        "from sklearn.metrics import f1_score, balanced_accuracy_score, classification_report\n",
        "from scipy.stats import randint\n",
        "\n",
        "import kagglehub  # ใช้โหลด dataset จาก Kaggle อัตโนมัติ"
      ]
    },
    {
      "cell_type": "code",
      "source": [
        "\n",
        "# ดาวน์โหลดและอ่านไฟล์\n",
        "dataset_path = kagglehub.dataset_download(\"andrewmvd/fetal-health-classification\")\n",
        "file_path = Path(dataset_path) / \"fetal_health.csv\"\n",
        "df = pd.read_csv(file_path)\n",
        "\n",
        "TARGET = \"fetal_health\"\n",
        "X = df.drop(columns=[TARGET]).select_dtypes(include=[np.number])\n",
        "y = df[TARGET].astype(int)\n",
        "\n",
        "\n",
        "print(\"ขนาดก่อนลบ:\", df.shape)\n",
        "data = df.drop_duplicates(keep=\"first\")\n",
        "print(\"ขนาดหลังลบ:\", df.shape)\n",
        "\n",
        "# แบ่ง train/test เพื่อประเมินสุดท้าย (นอกเหนือจาก CV)\n",
        "X_train, X_test, y_train, y_test = train_test_split(\n",
        "    X, y, test_size=0.2, stratify=y, random_state=42\n",
        ")\n"
      ],
      "metadata": {
        "colab": {
          "base_uri": "https://localhost:8080/"
        },
        "id": "b04KMFrRTg07",
        "outputId": "b5518c91-3858-45b7-b0e6-f03a802b27e5"
      },
      "execution_count": 3,
      "outputs": [
        {
          "output_type": "stream",
          "name": "stdout",
          "text": [
            "Using Colab cache for faster access to the 'fetal-health-classification' dataset.\n",
            "ขนาดก่อนลบ: (2126, 22)\n",
            "ขนาดหลังลบ: (2126, 22)\n"
          ]
        }
      ]
    },
    {
      "cell_type": "code",
      "source": [
        "pipe = Pipeline(steps=[\n",
        "    (\"sel\", SelectKBest(score_func=f_classif )),\n",
        "    (\"clf\", RandomForestClassifier(\n",
        "        random_state=42,\n",
        "        n_jobs=-1,\n",
        "        class_weight=\"balanced\",\n",
        "        n_estimators=503,\n",
        "        criterion=\"gini\",\n",
        "        max_features=\"sqrt\",\n",
        "        max_leaf_nodes=49,\n",
        "        min_samples_leaf=3,        # ใช้ค่าเดียว (เดิมใส่ซ้ำ)\n",
        "        min_samples_split=2,       # แนะนำเพิ่มเพื่อคุมการแตกโหนด (ปรับได้ 2–50)\n",
        "        bootstrap=True,\n",
        "        oob_score=True,            # ใช้ได้ใน CV แต่เป็นเมตริกของ train-fold เท่านั้น\n",
        "\n",
        "    )),\n",
        "])\n"
      ],
      "metadata": {
        "id": "HY-r0rECTlxO"
      },
      "execution_count": 4,
      "outputs": []
    },
    {
      "cell_type": "code",
      "source": [
        "n_feats = X_train.shape[1]\n",
        "param_distributions = {\n",
        "    \"sel__k\": randint(5, min(50, n_feats)+1),     # << ค้นหา K ที่เหมาะสม\n",
        "}\n",
        "\n",
        "cv = StratifiedKFold(n_splits=5, shuffle=True, random_state=42)\n",
        "scoring = {\"f1_macro\": \"f1_macro\", \"bal_acc\": \"balanced_accuracy\"}\n",
        "\n",
        "search = RandomizedSearchCV(\n",
        "    estimator=pipe,\n",
        "    param_distributions=param_distributions,\n",
        "    n_iter= X.shape[1],\n",
        "    cv=cv,\n",
        "    scoring=scoring,\n",
        "    refit=\"f1_macro\",           # เลือกโมเดลสุดท้ายด้วย f1_macro\n",
        "    n_jobs=-1,\n",
        "    random_state=42,\n",
        "    verbose=1,\n",
        "    return_train_score=False,\n",
        ")\n"
      ],
      "metadata": {
        "id": "6slpbIxcT6PU"
      },
      "execution_count": 8,
      "outputs": []
    },
    {
      "cell_type": "code",
      "source": [
        "search.fit(X_train, y_train)\n",
        "print(\"Best params:\", search.best_params_)\n",
        "print(\"Best CV f1_macro:\", search.best_score_)\n",
        "\n",
        "# ประเมินบน test set (ที่กันไว้ตั้งแต่ต้น)\n",
        "best_model = search.best_estimator_\n",
        "y_pred = best_model.predict(X_test)\n",
        "print(\"Test F1_macro:\", f1_score(y_test, y_pred, average=\"macro\"))\n",
        "print(\"Test Balanced Acc.:\", balanced_accuracy_score(y_test, y_pred))\n",
        "print(classification_report(y_test, y_pred))\n"
      ],
      "metadata": {
        "colab": {
          "base_uri": "https://localhost:8080/"
        },
        "id": "6Kld-AFkUKb5",
        "outputId": "e1e5c877-3ffc-4bcc-ec70-8088cf368ae6"
      },
      "execution_count": 9,
      "outputs": [
        {
          "output_type": "stream",
          "name": "stdout",
          "text": [
            "Fitting 5 folds for each of 21 candidates, totalling 105 fits\n",
            "Best params: {'sel__k': 10}\n",
            "Best CV f1_macro: 0.8901198852820891\n",
            "Test F1_macro: 0.8566930441454191\n",
            "Test Balanced Acc.: 0.8861893092952925\n",
            "              precision    recall  f1-score   support\n",
            "\n",
            "           1       0.97      0.93      0.95       332\n",
            "           2       0.71      0.81      0.76        59\n",
            "           3       0.82      0.91      0.86        35\n",
            "\n",
            "    accuracy                           0.91       426\n",
            "   macro avg       0.83      0.89      0.86       426\n",
            "weighted avg       0.92      0.91      0.92       426\n",
            "\n"
          ]
        }
      ]
    },
    {
      "cell_type": "code",
      "source": [
        "# ดึงตัวเลือกฟีเจอร์จากตัวคัดเลือกใน pipeline ที่ชนะ\n",
        "sel = best_model.named_steps[\"sel\"]\n",
        "mask = sel.get_support()\n",
        "selected_features = X_train.columns[mask].tolist()\n",
        "\n",
        "print(f\"Selected {len(selected_features)} features (k):\", selected_features)\n"
      ],
      "metadata": {
        "colab": {
          "base_uri": "https://localhost:8080/"
        },
        "id": "TVabM_mUVUSP",
        "outputId": "3b13a3a0-f54b-4444-ec30-5f937be5622b"
      },
      "execution_count": 10,
      "outputs": [
        {
          "output_type": "stream",
          "name": "stdout",
          "text": [
            "Selected 10 features (k): ['baseline value', 'accelerations', 'prolongued_decelerations', 'abnormal_short_term_variability', 'mean_value_of_short_term_variability', 'percentage_of_time_with_abnormal_long_term_variability', 'histogram_mode', 'histogram_mean', 'histogram_median', 'histogram_variance']\n"
          ]
        }
      ]
    },
    {
      "cell_type": "code",
      "source": [
        "# --- OOB metrics (อ่านจาก RF ที่อยู่ใน pipeline ที่ fit แล้ว) ---\n",
        "rf = best_model.named_steps[\"clf\"]\n",
        "print(\"OOB micro-accuracy (clf.oob_score_):\", rf.oob_score_)\n",
        "\n",
        "oob_proba = rf.oob_decision_function_\n",
        "valid = ~np.isnan(oob_proba).any(axis=1)  # กันกรณีบางแถวไม่มี OOB votes พอ\n",
        "y_true = np.asarray(y_train)[valid]\n",
        "oob_pred = rf.classes_[oob_proba[valid].argmax(axis=1)]\n",
        "\n",
        "print(\"OOB F1_macro:\", f1_score(y_true, oob_pred, average=\"macro\"))\n",
        "print(\"OOB Balanced Acc.:\", balanced_accuracy_score(y_true, oob_pred))"
      ],
      "metadata": {
        "colab": {
          "base_uri": "https://localhost:8080/"
        },
        "id": "Yp70eaXpV8vv",
        "outputId": "47a92e90-a37c-4b5c-8194-c5bf2fd020ad"
      },
      "execution_count": 11,
      "outputs": [
        {
          "output_type": "stream",
          "name": "stdout",
          "text": [
            "OOB micro-accuracy (clf.oob_score_): 0.9317647058823529\n",
            "OOB F1_macro: 0.8909376601577121\n",
            "OOB Balanced Acc.: 0.918110646911327\n"
          ]
        }
      ]
    }
  ]
}