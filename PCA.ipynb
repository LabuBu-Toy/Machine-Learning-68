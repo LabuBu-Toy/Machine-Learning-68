{
  "nbformat": 4,
  "nbformat_minor": 0,
  "metadata": {
    "colab": {
      "provenance": [],
      "gpuType": "T4",
      "authorship_tag": "ABX9TyOnbHzbY3QW9z7O/j8/OHWb",
      "include_colab_link": true
    },
    "kernelspec": {
      "name": "python3",
      "display_name": "Python 3"
    },
    "language_info": {
      "name": "python"
    },
    "accelerator": "GPU"
  },
  "cells": [
    {
      "cell_type": "markdown",
      "metadata": {
        "id": "view-in-github",
        "colab_type": "text"
      },
      "source": [
        "<a href=\"https://colab.research.google.com/github/Napawan2005/Machine-Learning-68/blob/main/PCA.ipynb\" target=\"_parent\"><img src=\"https://colab.research.google.com/assets/colab-badge.svg\" alt=\"Open In Colab\"/></a>"
      ]
    },
    {
      "cell_type": "code",
      "execution_count": 10,
      "metadata": {
        "id": "Z2VNBSTSQbVR"
      },
      "outputs": [],
      "source": [
        "import numpy as np, pandas as pd\n",
        "from pathlib import Path\n",
        "from sklearn.model_selection import train_test_split, StratifiedKFold, RandomizedSearchCV\n",
        "from sklearn.preprocessing import StandardScaler\n",
        "from sklearn.decomposition import PCA\n",
        "from sklearn.pipeline import Pipeline\n",
        "from sklearn.ensemble import RandomForestClassifier\n",
        "from sklearn.metrics import classification_report, f1_score, balanced_accuracy_score, confusion_matrix\n",
        "from scipy.stats import randint, loguniform"
      ]
    },
    {
      "cell_type": "code",
      "source": [
        "# ==== 1) Load dataset ====\n",
        "# วิธี A: ถ้าใช้ kagglehub\n",
        "import kagglehub\n",
        "dataset_path = Path(kagglehub.dataset_download(\"andrewmvd/fetal-health-classification\"))\n",
        "df = pd.read_csv(dataset_path / \"fetal_health.csv\")"
      ],
      "metadata": {
        "colab": {
          "base_uri": "https://localhost:8080/"
        },
        "id": "G-fb2hhcQgMg",
        "outputId": "90a0195b-32f5-481a-d813-711c53551951"
      },
      "execution_count": 11,
      "outputs": [
        {
          "output_type": "stream",
          "name": "stdout",
          "text": [
            "Using Colab cache for faster access to the 'fetal-health-classification' dataset.\n"
          ]
        }
      ]
    },
    {
      "cell_type": "code",
      "source": [
        "TARGET = \"fetal_health\"\n",
        "X = df.drop(columns=[TARGET]).select_dtypes(include=[np.number])\n",
        "y = df[TARGET].astype(int)"
      ],
      "metadata": {
        "id": "nH12i8N4Qlfq"
      },
      "execution_count": 12,
      "outputs": []
    },
    {
      "cell_type": "code",
      "source": [
        "# ==== 2) Train/Test split (stratify เพื่อคงสัดส่วนคลาส) ====\n",
        "X_train, X_test, y_train, y_test = train_test_split(\n",
        "    X, y, test_size=0.2, random_state=42, stratify=y\n",
        ")\n"
      ],
      "metadata": {
        "id": "FMwb2DK5QnxX"
      },
      "execution_count": 13,
      "outputs": []
    },
    {
      "cell_type": "code",
      "source": [
        "# ==== 3) Pipeline: Standardize -> PCA -> RandomForest ====\n",
        "pipe = Pipeline([\n",
        "    (\"scaler\", StandardScaler(with_mean=True, with_std=True)),  # สำคัญก่อนทำ PCA\n",
        "    (\"pca\", PCA(random_state=42)),\n",
        "    (\"clf\", RandomForestClassifier(\n",
        "        random_state=42,\n",
        "        n_jobs=-1,\n",
        "        class_weight=\"balanced\",\n",
        "        n_estimators=503,\n",
        "        criterion=\"gini\",\n",
        "        max_features=\"sqrt\",\n",
        "        max_leaf_nodes=49,\n",
        "        min_samples_leaf=3,        # ใช้ค่าเดียว (เดิมใส่ซ้ำ)\n",
        "        min_samples_split=2,       # แนะนำเพิ่มเพื่อคุมการแตกโหนด (ปรับได้ 2–50)\n",
        "        bootstrap=True,\n",
        "        oob_score=True,            # ใช้ได้ใน CV แต่เป็นเมตริกของ train-fold เท่านั้น\n",
        "\n",
        "    )),\n",
        "])"
      ],
      "metadata": {
        "id": "iunHRt4WQpz7"
      },
      "execution_count": 19,
      "outputs": []
    },
    {
      "cell_type": "code",
      "source": [
        "# ==== 4) CV & Scoring ====\n",
        "cv = StratifiedKFold(n_splits=5, shuffle=True, random_state=42)\n",
        "scoring = {\"f1_macro\": \"f1_macro\", \"bal_acc\": \"balanced_accuracy\"}"
      ],
      "metadata": {
        "id": "fsQrUvvAQtYd"
      },
      "execution_count": 20,
      "outputs": []
    },
    {
      "cell_type": "code",
      "source": [
        "# ==== 5) Hyperparameter search space ====\n",
        "# - pca__n_components: เลือกจำนวนคอมโพเนนต์ 5..min(30, n_features)\n",
        "# - clf params: ปรับขนาดป่า / ความลึก / จำนวนใบ ฯลฯ\n",
        "n_features = X_train.shape[1]\n",
        "param_dist = {\n",
        "    \"pca__n_components\": randint(5, min(30, n_features)+1),\n",
        "\n",
        "}"
      ],
      "metadata": {
        "id": "TOsUrTn2Qw9m"
      },
      "execution_count": 21,
      "outputs": []
    },
    {
      "cell_type": "code",
      "source": [
        "search = RandomizedSearchCV(\n",
        "    estimator=pipe,\n",
        "    param_distributions=param_dist,\n",
        "    n_iter=25,                # ปรับได้ตามงบเวลา\n",
        "    cv=cv,\n",
        "    scoring=scoring,\n",
        "    refit=\"f1_macro\",         # โมเดลสุดท้ายจะเลือกตาม f1_macro\n",
        "    n_jobs=-1,\n",
        "    random_state=42,\n",
        "    verbose=1,\n",
        "    return_train_score=False,\n",
        ")\n"
      ],
      "metadata": {
        "id": "EIoBeeOFQy-X"
      },
      "execution_count": 24,
      "outputs": []
    },
    {
      "cell_type": "code",
      "source": [
        "# ==== 6) Train ====\n",
        "search.fit(X_train, y_train)\n",
        "print(\"Best params:\", search.best_params_)\n",
        "print(\"CV best f1_macro:\", search.best_score_)"
      ],
      "metadata": {
        "colab": {
          "base_uri": "https://localhost:8080/"
        },
        "id": "aeFoqDmtQ1OH",
        "outputId": "a2429074-9bab-4267-b472-e15f84267c43"
      },
      "execution_count": 25,
      "outputs": [
        {
          "output_type": "stream",
          "name": "stdout",
          "text": [
            "Fitting 5 folds for each of 25 candidates, totalling 125 fits\n",
            "Best params: {'pca__n_components': 16}\n",
            "CV best f1_macro: 0.845343317600291\n"
          ]
        }
      ]
    },
    {
      "cell_type": "code",
      "source": [
        "# ==== 7) Evaluate on test set ====\n",
        "best_model = search.best_estimator_\n",
        "y_pred = best_model.predict(X_test)\n",
        "print(\"Test F1_macro:\", f1_score(y_test, y_pred, average=\"macro\"))\n",
        "print(\"Test Balanced Acc.:\", balanced_accuracy_score(y_test, y_pred))\n",
        "print(\"Confusion matrix:\\n\", confusion_matrix(y_test, y_pred))\n",
        "print(classification_report(y_test, y_pred, digits=4))\n"
      ],
      "metadata": {
        "id": "Krp53xOBQ3jl",
        "colab": {
          "base_uri": "https://localhost:8080/"
        },
        "outputId": "375cbd72-7d19-45f5-cdfe-19f965f6566c"
      },
      "execution_count": 26,
      "outputs": [
        {
          "output_type": "stream",
          "name": "stdout",
          "text": [
            "Test F1_macro: 0.8195587777224213\n",
            "Test Balanced Acc.: 0.8154321888036408\n",
            "Confusion matrix:\n",
            " [[312  19   1]\n",
            " [ 17  40   2]\n",
            " [  1   5  29]]\n",
            "              precision    recall  f1-score   support\n",
            "\n",
            "           1     0.9455    0.9398    0.9426       332\n",
            "           2     0.6250    0.6780    0.6504        59\n",
            "           3     0.9062    0.8286    0.8657        35\n",
            "\n",
            "    accuracy                         0.8944       426\n",
            "   macro avg     0.8256    0.8154    0.8196       426\n",
            "weighted avg     0.8979    0.8944    0.8958       426\n",
            "\n"
          ]
        }
      ]
    },
    {
      "cell_type": "code",
      "source": [
        "# ==== 8) Extra: ตรวจดู PCA ที่ถูกเลือก ====\n",
        "pca_step = best_model.named_steps[\"pca\"]\n",
        "print(\"Chosen n_components:\", pca_step.n_components_)\n",
        "print(\"Explained variance ratio (first 10):\", np.round(pca_step.explained_variance_ratio_[:10], 4))\n",
        "print(\"Cumulative explained variance:\", np.round(np.cumsum(pca_step.explained_variance_ratio_), 4))"
      ],
      "metadata": {
        "id": "3nt6XBWGQ5US",
        "colab": {
          "base_uri": "https://localhost:8080/"
        },
        "outputId": "31d3a532-2e1f-4348-9dca-d842fc4b2d8a"
      },
      "execution_count": 28,
      "outputs": [
        {
          "output_type": "stream",
          "name": "stdout",
          "text": [
            "Chosen n_components: 16\n",
            "Explained variance ratio (first 10): [0.2849 0.1699 0.0885 0.072  0.059  0.0492 0.0451 0.0435 0.037  0.03  ]\n",
            "Cumulative explained variance: [0.2849 0.4548 0.5433 0.6153 0.6743 0.7234 0.7685 0.812  0.8491 0.879\n",
            " 0.9061 0.9294 0.9475 0.9632 0.9756 0.9842]\n"
          ]
        }
      ]
    },
    {
      "cell_type": "code",
      "source": [
        "# ==== 9) Extra: OOB score ของ RF (จากตัวใน pipeline)\n",
        "rf_step = best_model.named_steps[\"clf\"]\n",
        "print(\"OOB score (train-fold level):\", getattr(rf_step, \"oob_score_\", None))"
      ],
      "metadata": {
        "id": "uk2oWVGPQ9rx",
        "colab": {
          "base_uri": "https://localhost:8080/"
        },
        "outputId": "efd3feea-b7a5-4f11-95f3-c88fa6e48df7"
      },
      "execution_count": 27,
      "outputs": [
        {
          "output_type": "stream",
          "name": "stdout",
          "text": [
            "OOB score (train-fold level): 0.8970588235294118\n"
          ]
        }
      ]
    }
  ]
}