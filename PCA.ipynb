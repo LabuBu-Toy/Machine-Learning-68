{
  "cells": [
    {
      "cell_type": "markdown",
      "metadata": {
        "id": "view-in-github",
        "colab_type": "text"
      },
      "source": [
        "<a href=\"https://colab.research.google.com/github/Napawan2005/Machine-Learning-68/blob/main/PCA.ipynb\" target=\"_parent\"><img src=\"https://colab.research.google.com/assets/colab-badge.svg\" alt=\"Open In Colab\"/></a>"
      ]
    },
    {
      "cell_type": "code",
      "execution_count": 45,
      "metadata": {
        "id": "Z2VNBSTSQbVR"
      },
      "outputs": [],
      "source": [
        "import numpy as np, pandas as pd\n",
        "from pathlib import Path\n",
        "from sklearn.model_selection import train_test_split, StratifiedKFold, RandomizedSearchCV\n",
        "from sklearn.preprocessing import StandardScaler\n",
        "from sklearn.decomposition import PCA\n",
        "from sklearn.pipeline import Pipeline\n",
        "from sklearn.ensemble import RandomForestClassifier\n",
        "from sklearn.metrics import classification_report, f1_score, balanced_accuracy_score, confusion_matrix\n",
        "from scipy.stats import randint, loguniform"
      ]
    },
    {
      "cell_type": "code",
      "execution_count": 46,
      "metadata": {
        "colab": {
          "base_uri": "https://localhost:8080/"
        },
        "id": "G-fb2hhcQgMg",
        "outputId": "c35e72b1-3b19-42e7-e9ff-a81237317fa4"
      },
      "outputs": [
        {
          "output_type": "stream",
          "name": "stdout",
          "text": [
            "Using Colab cache for faster access to the 'fetal-health-classification' dataset.\n"
          ]
        }
      ],
      "source": [
        "# ==== 1) Load dataset ====\n",
        "# วิธี A: ถ้าใช้ kagglehub\n",
        "import kagglehub\n",
        "dataset_path = Path(kagglehub.dataset_download(\"andrewmvd/fetal-health-classification\"))\n",
        "df = pd.read_csv(dataset_path / \"fetal_health.csv\")"
      ]
    },
    {
      "cell_type": "code",
      "source": [
        "\n",
        "print(\"ขนาดก่อนลบ:\", df.shape)\n",
        "df = df.drop_duplicates(keep=\"first\")\n",
        "print(\"ขนาดหลังลบ:\", df.shape)\n"
      ],
      "metadata": {
        "colab": {
          "base_uri": "https://localhost:8080/"
        },
        "id": "b6EU9rLLiQqq",
        "outputId": "362aca57-c4b7-41a0-a876-02b77a50b09f"
      },
      "execution_count": 47,
      "outputs": [
        {
          "output_type": "stream",
          "name": "stdout",
          "text": [
            "ขนาดก่อนลบ: (2126, 22)\n",
            "ขนาดหลังลบ: (2113, 22)\n"
          ]
        }
      ]
    },
    {
      "cell_type": "code",
      "execution_count": 48,
      "metadata": {
        "id": "nH12i8N4Qlfq"
      },
      "outputs": [],
      "source": [
        "TARGET = \"fetal_health\"\n",
        "X = df.drop(columns=[TARGET]).select_dtypes(include=[np.number])\n",
        "y = df[TARGET].astype(int)"
      ]
    },
    {
      "cell_type": "code",
      "execution_count": 49,
      "metadata": {
        "id": "FMwb2DK5QnxX"
      },
      "outputs": [],
      "source": [
        "# ==== 2) Train/Test split (stratify เพื่อคงสัดส่วนคลาส) ====\n",
        "X_train, X_test, y_train, y_test = train_test_split(\n",
        "    X, y, test_size=0.2, random_state=42, stratify=y\n",
        ")\n"
      ]
    },
    {
      "cell_type": "code",
      "execution_count": 50,
      "metadata": {
        "id": "iunHRt4WQpz7"
      },
      "outputs": [],
      "source": [
        "\n",
        "# ==== 3) Pipeline: Standardize -> PCA -> RandomForest ====\n",
        "pipe = Pipeline([\n",
        "    (\"scaler\", StandardScaler(with_mean=True, with_std=True)),  # สำคัญก่อนทำ PCA\n",
        "    (\"pca\", PCA(random_state=42)),\n",
        "    (\"clf\", RandomForestClassifier(\n",
        "        random_state=42,\n",
        "        n_jobs=-1,\n",
        "        class_weight=\"balanced\",\n",
        "        n_estimators=503,\n",
        "        criterion=\"gini\",\n",
        "        max_features=\"sqrt\",\n",
        "        max_leaf_nodes=49,\n",
        "        min_samples_leaf=3,        # ใช้ค่าเดียว (เดิมใส่ซ้ำ)\n",
        "        min_samples_split=2,       # แนะนำเพิ่มเพื่อคุมการแตกโหนด (ปรับได้ 2–50)\n",
        "        bootstrap=True,\n",
        "        oob_score=True,            # ใช้ได้ใน CV แต่เป็นเมตริกของ train-fold เท่านั้น\n",
        "\n",
        "    )),\n",
        "])"
      ]
    },
    {
      "cell_type": "code",
      "execution_count": 51,
      "metadata": {
        "id": "fsQrUvvAQtYd"
      },
      "outputs": [],
      "source": [
        "# ==== 4) CV & Scoring ====\n",
        "cv = StratifiedKFold(n_splits=5, shuffle=True, random_state=42)\n",
        "scoring = {\"f1_macro\": \"f1_macro\", \"bal_acc\": \"balanced_accuracy\"}"
      ]
    },
    {
      "cell_type": "code",
      "execution_count": 52,
      "metadata": {
        "id": "TOsUrTn2Qw9m"
      },
      "outputs": [],
      "source": [
        "# ==== 5) Hyperparameter search space ====\n",
        "# - pca__n_components: เลือกจำนวนคอมโพเนนต์ 5..min(30, n_features)\n",
        "# - clf params: ปรับขนาดป่า / ความลึก / จำนวนใบ ฯลฯ\n",
        "n_features = X_train.shape[1]\n",
        "param_dist = {\n",
        "    \"pca__n_components\": randint(5, min(30, n_features)+1),\n",
        "\n",
        "}"
      ]
    },
    {
      "cell_type": "code",
      "execution_count": 53,
      "metadata": {
        "id": "EIoBeeOFQy-X"
      },
      "outputs": [],
      "source": [
        "search = RandomizedSearchCV(\n",
        "    estimator=pipe,\n",
        "    param_distributions=param_dist,\n",
        "    n_iter=X.shape[1],                # ปรับได้ตามงบเวลา\n",
        "    cv=cv,\n",
        "    scoring=scoring,\n",
        "    refit=\"f1_macro\",         # โมเดลสุดท้ายจะเลือกตาม f1_macro\n",
        "    n_jobs=-1,\n",
        "    random_state=42,\n",
        "    verbose=1,\n",
        "    return_train_score=False,\n",
        ")\n"
      ]
    },
    {
      "cell_type": "code",
      "execution_count": 54,
      "metadata": {
        "id": "aeFoqDmtQ1OH",
        "colab": {
          "base_uri": "https://localhost:8080/"
        },
        "outputId": "02ee675d-476f-4893-feda-42259ee67211"
      },
      "outputs": [
        {
          "output_type": "stream",
          "name": "stdout",
          "text": [
            "Fitting 5 folds for each of 21 candidates, totalling 105 fits\n",
            "Best params: {'pca__n_components': 16}\n",
            "CV best f1_macro: 0.836076854350549\n"
          ]
        }
      ],
      "source": [
        "# ==== 6) Train ====\n",
        "search.fit(X_train, y_train)\n",
        "print(\"Best params:\", search.best_params_)\n",
        "print(\"CV best f1_macro:\", search.best_score_)"
      ]
    },
    {
      "cell_type": "code",
      "execution_count": 55,
      "metadata": {
        "id": "Krp53xOBQ3jl",
        "colab": {
          "base_uri": "https://localhost:8080/"
        },
        "outputId": "0d3fc366-7b35-44de-b517-aebfee50f674"
      },
      "outputs": [
        {
          "output_type": "stream",
          "name": "stdout",
          "text": [
            "Test F1_macro: 0.8177307742525134\n",
            "Test Balanced Acc.: 0.8070159725332139\n",
            "Confusion matrix:\n",
            " [[315  12   3]\n",
            " [ 19  37   2]\n",
            " [  2   4  29]]\n",
            "              precision    recall  f1-score   support\n",
            "\n",
            "           1     0.9375    0.9545    0.9459       330\n",
            "           2     0.6981    0.6379    0.6667        58\n",
            "           3     0.8529    0.8286    0.8406        35\n",
            "\n",
            "    accuracy                         0.9007       423\n",
            "   macro avg     0.8295    0.8070    0.8177       423\n",
            "weighted avg     0.8977    0.9007    0.8989       423\n",
            "\n"
          ]
        }
      ],
      "source": [
        "# ==== 7) Evaluate on test set ====\n",
        "best_model = search.best_estimator_\n",
        "y_pred = best_model.predict(X_test)\n",
        "print(\"Test F1_macro:\", f1_score(y_test, y_pred, average=\"macro\"))\n",
        "print(\"Test Balanced Acc.:\", balanced_accuracy_score(y_test, y_pred))\n",
        "print(\"Confusion matrix:\\n\", confusion_matrix(y_test, y_pred))\n",
        "print(classification_report(y_test, y_pred, digits=4))\n"
      ]
    },
    {
      "cell_type": "code",
      "execution_count": 56,
      "metadata": {
        "id": "3nt6XBWGQ5US",
        "colab": {
          "base_uri": "https://localhost:8080/"
        },
        "outputId": "bdeb0ea9-79f2-4dd3-d08c-339aa040d984"
      },
      "outputs": [
        {
          "output_type": "stream",
          "name": "stdout",
          "text": [
            "Chosen n_components: 16\n",
            "Explained variance ratio (first 10): [0.2887 0.1684 0.0891 0.0717 0.0578 0.0485 0.0467 0.0435 0.0361 0.0301]\n",
            "Cumulative explained variance: [0.2887 0.4571 0.5463 0.618  0.6758 0.7244 0.7711 0.8146 0.8507 0.8809\n",
            " 0.9084 0.9315 0.9489 0.964  0.9767 0.9851]\n"
          ]
        }
      ],
      "source": [
        "# ==== 8) Extra: ตรวจดู PCA ที่ถูกเลือก ====\n",
        "pca_step = best_model.named_steps[\"pca\"]\n",
        "print(\"Chosen n_components:\", pca_step.n_components_)\n",
        "print(\"Explained variance ratio (first 10):\", np.round(pca_step.explained_variance_ratio_[:10], 4))\n",
        "print(\"Cumulative explained variance:\", np.round(np.cumsum(pca_step.explained_variance_ratio_), 4))"
      ]
    },
    {
      "cell_type": "code",
      "execution_count": 57,
      "metadata": {
        "id": "uk2oWVGPQ9rx",
        "colab": {
          "base_uri": "https://localhost:8080/"
        },
        "outputId": "d88cd4ac-da5f-488d-915a-fae74c498ecf"
      },
      "outputs": [
        {
          "output_type": "stream",
          "name": "stdout",
          "text": [
            "OOB score (train-fold level): 0.8988165680473372\n"
          ]
        }
      ],
      "source": [
        "# ==== 9) Extra: OOB score ของ RF (จากตัวใน pipeline)\n",
        "rf_step = best_model.named_steps[\"clf\"]\n",
        "print(\"OOB score (train-fold level):\", getattr(rf_step, \"oob_score_\", None))"
      ]
    },
    {
      "cell_type": "code",
      "source": [
        "oob_proba = rf_step.oob_decision_function_\n",
        "valid = ~np.isnan(oob_proba).any(axis=1)  # กันกรณีบางแถวไม่มี OOB votes พอ\n",
        "y_true = np.asarray(y_train)[valid]\n",
        "oob_pred = rf_step.classes_[oob_proba[valid].argmax(axis=1)]\n",
        "\n",
        "print(\"OOB F1_macro:\", f1_score(y_true, oob_pred, average=\"macro\"))\n",
        "print(\"OOB Balanced Acc.:\", balanced_accuracy_score(y_true, oob_pred))"
      ],
      "metadata": {
        "colab": {
          "base_uri": "https://localhost:8080/"
        },
        "id": "PCOBXRXewrgp",
        "outputId": "8c300fd6-2cf1-4dd0-f804-3388cb704ba0"
      },
      "execution_count": 58,
      "outputs": [
        {
          "metadata": {
            "tags": null
          },
          "name": "stdout",
          "output_type": "stream",
          "text": [
            "OOB F1_macro: 0.8331580409518095\n",
            "OOB Balanced Acc.: 0.838864209076975\n"
          ]
        }
      ]
    }
  ],
  "metadata": {
    "colab": {
      "provenance": [],
      "authorship_tag": "ABX9TyNYGYiLKGBlP4xe/Ome1MNI",
      "include_colab_link": true
    },
    "kernelspec": {
      "display_name": "Python 3",
      "name": "python3"
    },
    "language_info": {
      "name": "python"
    }
  },
  "nbformat": 4,
  "nbformat_minor": 0
}